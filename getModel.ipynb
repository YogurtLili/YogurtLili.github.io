{
 "cells": [
  {
   "cell_type": "markdown",
   "metadata": {},
   "source": [
    "### load data & transformation"
   ]
  },
  {
   "cell_type": "code",
   "execution_count": 2,
   "metadata": {
    "collapsed": true
   },
   "outputs": [],
   "source": [
    "import os\n",
    "import pandas as pd\n",
    "import numpy as np\n",
    "import matplotlib.pyplot as plt\n",
    "import pickle          \n",
    "import seaborn as sns"
   ]
  },
  {
   "cell_type": "code",
   "execution_count": 3,
   "metadata": {
    "collapsed": true
   },
   "outputs": [],
   "source": [
    "df = pd.read_csv('heloc_dataset_v1.csv')"
   ]
  },
  {
   "cell_type": "code",
   "execution_count": 4,
   "metadata": {
    "collapsed": true
   },
   "outputs": [],
   "source": [
    "n_rows = df.shape[0]\n",
    "n_cols = df.shape[1]\n",
    "col_names = list(df.columns)\n",
    "row_indexes = list(df.index)"
   ]
  },
  {
   "cell_type": "code",
   "execution_count": 5,
   "metadata": {
    "collapsed": true
   },
   "outputs": [],
   "source": [
    "cols_numeric = []\n",
    "cols_string = []\n",
    "\n",
    "for colname in col_names:\n",
    "    if df[colname].dtypes == 'object':\n",
    "        cols_string.append(colname)\n",
    "    if df[colname].dtypes in ['int64', 'float64']:\n",
    "        cols_numeric.append(colname)"
   ]
  },
  {
   "cell_type": "code",
   "execution_count": 6,
   "metadata": {
    "collapsed": true
   },
   "outputs": [],
   "source": [
    "df_missing_ExternalRiskEstimate = df.loc[df[\"ExternalRiskEstimate\"] == -9,:]\n",
    "n_rows_with_missing_ExternalRiskEstimate = df_missing_ExternalRiskEstimate.shape[0]\n",
    "\n",
    "n_rows_all_numeric_missing = (df_missing_ExternalRiskEstimate.loc[:,cols_numeric]==-9).sum(axis=0).min()\n",
    "\n",
    "df_without_missing_rows = df.loc[df.index[(df.loc[:,cols_numeric]==-9).sum(axis=1) != 23],:]"
   ]
  },
  {
   "cell_type": "code",
   "execution_count": 7,
   "metadata": {
    "collapsed": true
   },
   "outputs": [],
   "source": [
    "df = df_without_missing_rows"
   ]
  },
  {
   "cell_type": "code",
   "execution_count": 8,
   "metadata": {
    "collapsed": true
   },
   "outputs": [],
   "source": [
    "X = df.iloc[:,1:25]\n",
    "Y = df['RiskPerformance'].map(dict(Bad = 1, Good = 0))"
   ]
  },
  {
   "cell_type": "code",
   "execution_count": 9,
   "metadata": {
    "collapsed": true
   },
   "outputs": [],
   "source": [
    "from sklearn.model_selection import train_test_split\n",
    "X_train, X_test = train_test_split(X, test_size=0.2, random_state=1234)\n",
    "Y_train, Y_test  = train_test_split(Y, test_size=0.2, random_state=1234)"
   ]
  },
  {
   "cell_type": "code",
   "execution_count": 10,
   "metadata": {
    "collapsed": true
   },
   "outputs": [],
   "source": [
    "df_train = pd.concat([X_train, Y_train], axis = 1)"
   ]
  },
  {
   "cell_type": "code",
   "execution_count": 11,
   "metadata": {
    "collapsed": true
   },
   "outputs": [],
   "source": [
    "from sklearn.model_selection import train_test_split\n",
    "X_train, X_test = train_test_split(X, test_size=0.2, random_state=1234)\n",
    "Y_train, Y_test  = train_test_split(Y, test_size=0.2, random_state=1234)"
   ]
  },
  {
   "cell_type": "code",
   "execution_count": 12,
   "metadata": {},
   "outputs": [
    {
     "name": "stderr",
     "output_type": "stream",
     "text": [
      "/usr/lib/python3.7/site-packages/ipykernel_launcher.py:2: UserWarning: Boolean Series key will be reindexed to match DataFrame index.\n",
      "  \n",
      "/usr/lib/python3.7/site-packages/ipykernel_launcher.py:3: UserWarning: Boolean Series key will be reindexed to match DataFrame index.\n",
      "  This is separate from the ipykernel package so we can avoid doing imports until\n"
     ]
    }
   ],
   "source": [
    "# index_selected = X_train[X_train['ExternalRiskEstimate'] != -9].index().tolist()\n",
    "X_train = X_train[df['ExternalRiskEstimate'] != -9]\n",
    "X_test = X_test[df['ExternalRiskEstimate'] != -9]\n",
    "Y_train = Y_train[Y_train.index.isin(X_train.index)]\n",
    "Y_test = Y_test[Y_test.index.isin(X_test.index)]"
   ]
  },
  {
   "cell_type": "code",
   "execution_count": 13,
   "metadata": {},
   "outputs": [
    {
     "data": {
      "text/html": [
       "<div>\n",
       "<style scoped>\n",
       "    .dataframe tbody tr th:only-of-type {\n",
       "        vertical-align: middle;\n",
       "    }\n",
       "\n",
       "    .dataframe tbody tr th {\n",
       "        vertical-align: top;\n",
       "    }\n",
       "\n",
       "    .dataframe thead th {\n",
       "        text-align: right;\n",
       "    }\n",
       "</style>\n",
       "<table border=\"1\" class=\"dataframe\">\n",
       "  <thead>\n",
       "    <tr style=\"text-align: right;\">\n",
       "      <th></th>\n",
       "      <th>-7</th>\n",
       "      <th>-8</th>\n",
       "      <th>-9</th>\n",
       "    </tr>\n",
       "  </thead>\n",
       "  <tbody>\n",
       "    <tr>\n",
       "      <th>ExternalRiskEstimate</th>\n",
       "      <td>0</td>\n",
       "      <td>0</td>\n",
       "      <td>0</td>\n",
       "    </tr>\n",
       "    <tr>\n",
       "      <th>MSinceOldestTradeOpen</th>\n",
       "      <td>0</td>\n",
       "      <td>199</td>\n",
       "      <td>0</td>\n",
       "    </tr>\n",
       "    <tr>\n",
       "      <th>MSinceMostRecentTradeOpen</th>\n",
       "      <td>0</td>\n",
       "      <td>0</td>\n",
       "      <td>0</td>\n",
       "    </tr>\n",
       "    <tr>\n",
       "      <th>AverageMInFile</th>\n",
       "      <td>0</td>\n",
       "      <td>0</td>\n",
       "      <td>0</td>\n",
       "    </tr>\n",
       "    <tr>\n",
       "      <th>NumSatisfactoryTrades</th>\n",
       "      <td>0</td>\n",
       "      <td>0</td>\n",
       "      <td>0</td>\n",
       "    </tr>\n",
       "    <tr>\n",
       "      <th>NumTrades60Ever2DerogPubRec</th>\n",
       "      <td>0</td>\n",
       "      <td>0</td>\n",
       "      <td>0</td>\n",
       "    </tr>\n",
       "    <tr>\n",
       "      <th>NumTrades90Ever2DerogPubRec</th>\n",
       "      <td>0</td>\n",
       "      <td>0</td>\n",
       "      <td>0</td>\n",
       "    </tr>\n",
       "    <tr>\n",
       "      <th>PercentTradesNeverDelq</th>\n",
       "      <td>0</td>\n",
       "      <td>0</td>\n",
       "      <td>0</td>\n",
       "    </tr>\n",
       "    <tr>\n",
       "      <th>MSinceMostRecentDelq</th>\n",
       "      <td>3727</td>\n",
       "      <td>130</td>\n",
       "      <td>0</td>\n",
       "    </tr>\n",
       "    <tr>\n",
       "      <th>MaxDelq2PublicRecLast12M</th>\n",
       "      <td>0</td>\n",
       "      <td>0</td>\n",
       "      <td>0</td>\n",
       "    </tr>\n",
       "    <tr>\n",
       "      <th>MaxDelqEver</th>\n",
       "      <td>0</td>\n",
       "      <td>0</td>\n",
       "      <td>0</td>\n",
       "    </tr>\n",
       "    <tr>\n",
       "      <th>NumTotalTrades</th>\n",
       "      <td>0</td>\n",
       "      <td>0</td>\n",
       "      <td>0</td>\n",
       "    </tr>\n",
       "    <tr>\n",
       "      <th>NumTradesOpeninLast12M</th>\n",
       "      <td>0</td>\n",
       "      <td>0</td>\n",
       "      <td>0</td>\n",
       "    </tr>\n",
       "    <tr>\n",
       "      <th>PercentInstallTrades</th>\n",
       "      <td>0</td>\n",
       "      <td>0</td>\n",
       "      <td>0</td>\n",
       "    </tr>\n",
       "    <tr>\n",
       "      <th>MSinceMostRecentInqexcl7days</th>\n",
       "      <td>1462</td>\n",
       "      <td>371</td>\n",
       "      <td>0</td>\n",
       "    </tr>\n",
       "    <tr>\n",
       "      <th>NumInqLast6M</th>\n",
       "      <td>0</td>\n",
       "      <td>0</td>\n",
       "      <td>0</td>\n",
       "    </tr>\n",
       "    <tr>\n",
       "      <th>NumInqLast6Mexcl7days</th>\n",
       "      <td>0</td>\n",
       "      <td>0</td>\n",
       "      <td>0</td>\n",
       "    </tr>\n",
       "    <tr>\n",
       "      <th>NetFractionRevolvingBurden</th>\n",
       "      <td>0</td>\n",
       "      <td>142</td>\n",
       "      <td>0</td>\n",
       "    </tr>\n",
       "    <tr>\n",
       "      <th>NetFractionInstallBurden</th>\n",
       "      <td>0</td>\n",
       "      <td>2741</td>\n",
       "      <td>0</td>\n",
       "    </tr>\n",
       "    <tr>\n",
       "      <th>NumRevolvingTradesWBalance</th>\n",
       "      <td>0</td>\n",
       "      <td>122</td>\n",
       "      <td>0</td>\n",
       "    </tr>\n",
       "    <tr>\n",
       "      <th>NumInstallTradesWBalance</th>\n",
       "      <td>0</td>\n",
       "      <td>686</td>\n",
       "      <td>0</td>\n",
       "    </tr>\n",
       "    <tr>\n",
       "      <th>NumBank2NatlTradesWHighUtilization</th>\n",
       "      <td>0</td>\n",
       "      <td>466</td>\n",
       "      <td>0</td>\n",
       "    </tr>\n",
       "    <tr>\n",
       "      <th>PercentTradesWBalance</th>\n",
       "      <td>0</td>\n",
       "      <td>7</td>\n",
       "      <td>0</td>\n",
       "    </tr>\n",
       "  </tbody>\n",
       "</table>\n",
       "</div>"
      ],
      "text/plain": [
       "                                      -7    -8  -9\n",
       "ExternalRiskEstimate                   0     0   0\n",
       "MSinceOldestTradeOpen                  0   199   0\n",
       "MSinceMostRecentTradeOpen              0     0   0\n",
       "AverageMInFile                         0     0   0\n",
       "NumSatisfactoryTrades                  0     0   0\n",
       "NumTrades60Ever2DerogPubRec            0     0   0\n",
       "NumTrades90Ever2DerogPubRec            0     0   0\n",
       "PercentTradesNeverDelq                 0     0   0\n",
       "MSinceMostRecentDelq                3727   130   0\n",
       "MaxDelq2PublicRecLast12M               0     0   0\n",
       "MaxDelqEver                            0     0   0\n",
       "NumTotalTrades                         0     0   0\n",
       "NumTradesOpeninLast12M                 0     0   0\n",
       "PercentInstallTrades                   0     0   0\n",
       "MSinceMostRecentInqexcl7days        1462   371   0\n",
       "NumInqLast6M                           0     0   0\n",
       "NumInqLast6Mexcl7days                  0     0   0\n",
       "NetFractionRevolvingBurden             0   142   0\n",
       "NetFractionInstallBurden               0  2741   0\n",
       "NumRevolvingTradesWBalance             0   122   0\n",
       "NumInstallTradesWBalance               0   686   0\n",
       "NumBank2NatlTradesWHighUtilization     0   466   0\n",
       "PercentTradesWBalance                  0     7   0"
      ]
     },
     "execution_count": 13,
     "metadata": {},
     "output_type": "execute_result"
    }
   ],
   "source": [
    "df_count_missing = pd.concat([(X_train==-7).sum(), (X_train==-8).sum(), (X_train==-9).sum()], axis=1)\n",
    "df_count_missing.columns = [-7,-8,-9]\n",
    "df_count_missing"
   ]
  },
  {
   "cell_type": "code",
   "execution_count": 14,
   "metadata": {
    "collapsed": true
   },
   "outputs": [],
   "source": [
    "from sklearn.impute import MissingIndicator\n",
    "from sklearn.pipeline import FeatureUnion\n",
    "from sklearn.compose import ColumnTransformer\n",
    "from sklearn.impute import SimpleImputer\n",
    "from sklearn.pipeline import Pipeline\n",
    "\n",
    "minus_7_indicator_transformer = MissingIndicator(missing_values=-7, \n",
    "                                                 features='missing-only').fit(X_train)\n",
    "minus_8_indicator_transformer = MissingIndicator(missing_values=-8, \n",
    "                                                 features='missing-only').fit(X_train)\n",
    "\n",
    "arr7_X_train_t = minus_7_indicator_transformer.transform(X_train)\n",
    "arr8_X_train_t = minus_8_indicator_transformer.transform(X_train)\n",
    "\n",
    "do_nothing_imputer = ColumnTransformer([(\"Imputer -7 to mean\", SimpleImputer(missing_values=-7, strategy='mean'), [])], remainder='passthrough')\n",
    "\n",
    "feature_expansion = FeatureUnion([(\"do nothing\", do_nothing_imputer),\n",
    "                                  (\"add features for -7\", MissingIndicator(missing_values=-7, features='missing-only')),\n",
    "                                  (\"add features for -8\", MissingIndicator(missing_values=-8, features='missing-only'))])\n",
    "\n",
    "# pipeline = \"replace this string with your answer\" \n",
    "pipeline = Pipeline([(\"expand features\", feature_expansion), \n",
    "                 (\"replace -7 with -8\", SimpleImputer(missing_values=-7, strategy='constant', fill_value=-8)),\n",
    "                 (\"replace -8 with mean\", SimpleImputer(missing_values=-8, strategy='mean'))])\n",
    "\n",
    "arr_X_train_t = pipeline.fit_transform(X_train)\n",
    "\n",
    "col_names_minus_7 = X_train.columns.values[minus_7_indicator_transformer.features_].tolist() \n",
    "col_names_minus_7 = list(map(lambda s:str(s)+'=-7',col_names_minus_7)) \n",
    "col_names_minus_8 = X_train.columns.values[minus_8_indicator_transformer.features_].tolist() \n",
    "col_names_minus_8 = list(map(lambda s:str(s)+'=-8',col_names_minus_8))\n",
    "column_names = X_train.columns.values.tolist() + col_names_minus_7 + col_names_minus_8\n",
    "# column_names == ANSWER_KEY['column_names']"
   ]
  },
  {
   "cell_type": "code",
   "execution_count": 15,
   "metadata": {},
   "outputs": [
    {
     "data": {
      "text/html": [
       "<div>\n",
       "<style scoped>\n",
       "    .dataframe tbody tr th:only-of-type {\n",
       "        vertical-align: middle;\n",
       "    }\n",
       "\n",
       "    .dataframe tbody tr th {\n",
       "        vertical-align: top;\n",
       "    }\n",
       "\n",
       "    .dataframe thead th {\n",
       "        text-align: right;\n",
       "    }\n",
       "</style>\n",
       "<table border=\"1\" class=\"dataframe\">\n",
       "  <thead>\n",
       "    <tr style=\"text-align: right;\">\n",
       "      <th></th>\n",
       "      <th>ExternalRiskEstimate</th>\n",
       "      <th>MSinceOldestTradeOpen</th>\n",
       "      <th>MSinceMostRecentTradeOpen</th>\n",
       "      <th>AverageMInFile</th>\n",
       "      <th>NumSatisfactoryTrades</th>\n",
       "      <th>NumTrades60Ever2DerogPubRec</th>\n",
       "      <th>NumTrades90Ever2DerogPubRec</th>\n",
       "      <th>PercentTradesNeverDelq</th>\n",
       "      <th>MSinceMostRecentDelq</th>\n",
       "      <th>MaxDelq2PublicRecLast12M</th>\n",
       "      <th>...</th>\n",
       "      <th>MSinceMostRecentInqexcl7days=-7</th>\n",
       "      <th>MSinceOldestTradeOpen=-8</th>\n",
       "      <th>MSinceMostRecentDelq=-8</th>\n",
       "      <th>MSinceMostRecentInqexcl7days=-8</th>\n",
       "      <th>NetFractionRevolvingBurden=-8</th>\n",
       "      <th>NetFractionInstallBurden=-8</th>\n",
       "      <th>NumRevolvingTradesWBalance=-8</th>\n",
       "      <th>NumInstallTradesWBalance=-8</th>\n",
       "      <th>NumBank2NatlTradesWHighUtilization=-8</th>\n",
       "      <th>PercentTradesWBalance=-8</th>\n",
       "    </tr>\n",
       "  </thead>\n",
       "  <tbody>\n",
       "    <tr>\n",
       "      <th>0</th>\n",
       "      <td>70.0</td>\n",
       "      <td>206.0</td>\n",
       "      <td>3.0</td>\n",
       "      <td>96.0</td>\n",
       "      <td>18.0</td>\n",
       "      <td>3.0</td>\n",
       "      <td>0.0</td>\n",
       "      <td>59.0</td>\n",
       "      <td>11.000000</td>\n",
       "      <td>4.0</td>\n",
       "      <td>...</td>\n",
       "      <td>0.0</td>\n",
       "      <td>0.0</td>\n",
       "      <td>0.0</td>\n",
       "      <td>0.0</td>\n",
       "      <td>0.0</td>\n",
       "      <td>0.0</td>\n",
       "      <td>0.0</td>\n",
       "      <td>0.0</td>\n",
       "      <td>0.0</td>\n",
       "      <td>0.0</td>\n",
       "    </tr>\n",
       "    <tr>\n",
       "      <th>1</th>\n",
       "      <td>42.0</td>\n",
       "      <td>179.0</td>\n",
       "      <td>1.0</td>\n",
       "      <td>72.0</td>\n",
       "      <td>50.0</td>\n",
       "      <td>9.0</td>\n",
       "      <td>6.0</td>\n",
       "      <td>69.0</td>\n",
       "      <td>0.000000</td>\n",
       "      <td>0.0</td>\n",
       "      <td>...</td>\n",
       "      <td>1.0</td>\n",
       "      <td>0.0</td>\n",
       "      <td>0.0</td>\n",
       "      <td>0.0</td>\n",
       "      <td>0.0</td>\n",
       "      <td>0.0</td>\n",
       "      <td>0.0</td>\n",
       "      <td>0.0</td>\n",
       "      <td>0.0</td>\n",
       "      <td>0.0</td>\n",
       "    </tr>\n",
       "    <tr>\n",
       "      <th>2</th>\n",
       "      <td>74.0</td>\n",
       "      <td>219.0</td>\n",
       "      <td>3.0</td>\n",
       "      <td>90.0</td>\n",
       "      <td>42.0</td>\n",
       "      <td>0.0</td>\n",
       "      <td>0.0</td>\n",
       "      <td>96.0</td>\n",
       "      <td>6.000000</td>\n",
       "      <td>4.0</td>\n",
       "      <td>...</td>\n",
       "      <td>0.0</td>\n",
       "      <td>0.0</td>\n",
       "      <td>0.0</td>\n",
       "      <td>0.0</td>\n",
       "      <td>0.0</td>\n",
       "      <td>0.0</td>\n",
       "      <td>0.0</td>\n",
       "      <td>0.0</td>\n",
       "      <td>0.0</td>\n",
       "      <td>0.0</td>\n",
       "    </tr>\n",
       "    <tr>\n",
       "      <th>3</th>\n",
       "      <td>73.0</td>\n",
       "      <td>445.0</td>\n",
       "      <td>15.0</td>\n",
       "      <td>125.0</td>\n",
       "      <td>12.0</td>\n",
       "      <td>0.0</td>\n",
       "      <td>0.0</td>\n",
       "      <td>83.0</td>\n",
       "      <td>21.000000</td>\n",
       "      <td>6.0</td>\n",
       "      <td>...</td>\n",
       "      <td>0.0</td>\n",
       "      <td>0.0</td>\n",
       "      <td>0.0</td>\n",
       "      <td>0.0</td>\n",
       "      <td>0.0</td>\n",
       "      <td>1.0</td>\n",
       "      <td>0.0</td>\n",
       "      <td>0.0</td>\n",
       "      <td>0.0</td>\n",
       "      <td>0.0</td>\n",
       "    </tr>\n",
       "    <tr>\n",
       "      <th>4</th>\n",
       "      <td>88.0</td>\n",
       "      <td>320.0</td>\n",
       "      <td>4.0</td>\n",
       "      <td>93.0</td>\n",
       "      <td>52.0</td>\n",
       "      <td>0.0</td>\n",
       "      <td>0.0</td>\n",
       "      <td>100.0</td>\n",
       "      <td>21.751675</td>\n",
       "      <td>7.0</td>\n",
       "      <td>...</td>\n",
       "      <td>0.0</td>\n",
       "      <td>0.0</td>\n",
       "      <td>0.0</td>\n",
       "      <td>0.0</td>\n",
       "      <td>0.0</td>\n",
       "      <td>0.0</td>\n",
       "      <td>0.0</td>\n",
       "      <td>0.0</td>\n",
       "      <td>0.0</td>\n",
       "      <td>0.0</td>\n",
       "    </tr>\n",
       "    <tr>\n",
       "      <th>...</th>\n",
       "      <td>...</td>\n",
       "      <td>...</td>\n",
       "      <td>...</td>\n",
       "      <td>...</td>\n",
       "      <td>...</td>\n",
       "      <td>...</td>\n",
       "      <td>...</td>\n",
       "      <td>...</td>\n",
       "      <td>...</td>\n",
       "      <td>...</td>\n",
       "      <td>...</td>\n",
       "      <td>...</td>\n",
       "      <td>...</td>\n",
       "      <td>...</td>\n",
       "      <td>...</td>\n",
       "      <td>...</td>\n",
       "      <td>...</td>\n",
       "      <td>...</td>\n",
       "      <td>...</td>\n",
       "      <td>...</td>\n",
       "      <td>...</td>\n",
       "    </tr>\n",
       "    <tr>\n",
       "      <th>1968</th>\n",
       "      <td>89.0</td>\n",
       "      <td>274.0</td>\n",
       "      <td>11.0</td>\n",
       "      <td>125.0</td>\n",
       "      <td>15.0</td>\n",
       "      <td>0.0</td>\n",
       "      <td>0.0</td>\n",
       "      <td>100.0</td>\n",
       "      <td>21.751675</td>\n",
       "      <td>7.0</td>\n",
       "      <td>...</td>\n",
       "      <td>0.0</td>\n",
       "      <td>0.0</td>\n",
       "      <td>0.0</td>\n",
       "      <td>0.0</td>\n",
       "      <td>0.0</td>\n",
       "      <td>0.0</td>\n",
       "      <td>0.0</td>\n",
       "      <td>0.0</td>\n",
       "      <td>0.0</td>\n",
       "      <td>0.0</td>\n",
       "    </tr>\n",
       "    <tr>\n",
       "      <th>1969</th>\n",
       "      <td>77.0</td>\n",
       "      <td>112.0</td>\n",
       "      <td>15.0</td>\n",
       "      <td>67.0</td>\n",
       "      <td>12.0</td>\n",
       "      <td>0.0</td>\n",
       "      <td>0.0</td>\n",
       "      <td>100.0</td>\n",
       "      <td>21.751675</td>\n",
       "      <td>7.0</td>\n",
       "      <td>...</td>\n",
       "      <td>0.0</td>\n",
       "      <td>0.0</td>\n",
       "      <td>0.0</td>\n",
       "      <td>0.0</td>\n",
       "      <td>0.0</td>\n",
       "      <td>1.0</td>\n",
       "      <td>0.0</td>\n",
       "      <td>0.0</td>\n",
       "      <td>0.0</td>\n",
       "      <td>0.0</td>\n",
       "    </tr>\n",
       "    <tr>\n",
       "      <th>1970</th>\n",
       "      <td>70.0</td>\n",
       "      <td>366.0</td>\n",
       "      <td>9.0</td>\n",
       "      <td>163.0</td>\n",
       "      <td>17.0</td>\n",
       "      <td>2.0</td>\n",
       "      <td>2.0</td>\n",
       "      <td>74.0</td>\n",
       "      <td>1.000000</td>\n",
       "      <td>0.0</td>\n",
       "      <td>...</td>\n",
       "      <td>0.0</td>\n",
       "      <td>0.0</td>\n",
       "      <td>0.0</td>\n",
       "      <td>0.0</td>\n",
       "      <td>0.0</td>\n",
       "      <td>1.0</td>\n",
       "      <td>0.0</td>\n",
       "      <td>0.0</td>\n",
       "      <td>0.0</td>\n",
       "      <td>0.0</td>\n",
       "    </tr>\n",
       "    <tr>\n",
       "      <th>1971</th>\n",
       "      <td>57.0</td>\n",
       "      <td>239.0</td>\n",
       "      <td>2.0</td>\n",
       "      <td>93.0</td>\n",
       "      <td>28.0</td>\n",
       "      <td>0.0</td>\n",
       "      <td>0.0</td>\n",
       "      <td>93.0</td>\n",
       "      <td>3.000000</td>\n",
       "      <td>4.0</td>\n",
       "      <td>...</td>\n",
       "      <td>0.0</td>\n",
       "      <td>0.0</td>\n",
       "      <td>0.0</td>\n",
       "      <td>0.0</td>\n",
       "      <td>0.0</td>\n",
       "      <td>0.0</td>\n",
       "      <td>0.0</td>\n",
       "      <td>0.0</td>\n",
       "      <td>0.0</td>\n",
       "      <td>0.0</td>\n",
       "    </tr>\n",
       "    <tr>\n",
       "      <th>1972</th>\n",
       "      <td>67.0</td>\n",
       "      <td>152.0</td>\n",
       "      <td>21.0</td>\n",
       "      <td>97.0</td>\n",
       "      <td>25.0</td>\n",
       "      <td>1.0</td>\n",
       "      <td>1.0</td>\n",
       "      <td>96.0</td>\n",
       "      <td>21.751675</td>\n",
       "      <td>5.0</td>\n",
       "      <td>...</td>\n",
       "      <td>0.0</td>\n",
       "      <td>0.0</td>\n",
       "      <td>0.0</td>\n",
       "      <td>0.0</td>\n",
       "      <td>0.0</td>\n",
       "      <td>1.0</td>\n",
       "      <td>0.0</td>\n",
       "      <td>0.0</td>\n",
       "      <td>0.0</td>\n",
       "      <td>0.0</td>\n",
       "    </tr>\n",
       "  </tbody>\n",
       "</table>\n",
       "<p>1973 rows × 34 columns</p>\n",
       "</div>"
      ],
      "text/plain": [
       "      ExternalRiskEstimate  MSinceOldestTradeOpen  MSinceMostRecentTradeOpen  \\\n",
       "0                     70.0                  206.0                        3.0   \n",
       "1                     42.0                  179.0                        1.0   \n",
       "2                     74.0                  219.0                        3.0   \n",
       "3                     73.0                  445.0                       15.0   \n",
       "4                     88.0                  320.0                        4.0   \n",
       "...                    ...                    ...                        ...   \n",
       "1968                  89.0                  274.0                       11.0   \n",
       "1969                  77.0                  112.0                       15.0   \n",
       "1970                  70.0                  366.0                        9.0   \n",
       "1971                  57.0                  239.0                        2.0   \n",
       "1972                  67.0                  152.0                       21.0   \n",
       "\n",
       "      AverageMInFile  NumSatisfactoryTrades  NumTrades60Ever2DerogPubRec  \\\n",
       "0               96.0                   18.0                          3.0   \n",
       "1               72.0                   50.0                          9.0   \n",
       "2               90.0                   42.0                          0.0   \n",
       "3              125.0                   12.0                          0.0   \n",
       "4               93.0                   52.0                          0.0   \n",
       "...              ...                    ...                          ...   \n",
       "1968           125.0                   15.0                          0.0   \n",
       "1969            67.0                   12.0                          0.0   \n",
       "1970           163.0                   17.0                          2.0   \n",
       "1971            93.0                   28.0                          0.0   \n",
       "1972            97.0                   25.0                          1.0   \n",
       "\n",
       "      NumTrades90Ever2DerogPubRec  PercentTradesNeverDelq  \\\n",
       "0                             0.0                    59.0   \n",
       "1                             6.0                    69.0   \n",
       "2                             0.0                    96.0   \n",
       "3                             0.0                    83.0   \n",
       "4                             0.0                   100.0   \n",
       "...                           ...                     ...   \n",
       "1968                          0.0                   100.0   \n",
       "1969                          0.0                   100.0   \n",
       "1970                          2.0                    74.0   \n",
       "1971                          0.0                    93.0   \n",
       "1972                          1.0                    96.0   \n",
       "\n",
       "      MSinceMostRecentDelq  MaxDelq2PublicRecLast12M  ...  \\\n",
       "0                11.000000                       4.0  ...   \n",
       "1                 0.000000                       0.0  ...   \n",
       "2                 6.000000                       4.0  ...   \n",
       "3                21.000000                       6.0  ...   \n",
       "4                21.751675                       7.0  ...   \n",
       "...                    ...                       ...  ...   \n",
       "1968             21.751675                       7.0  ...   \n",
       "1969             21.751675                       7.0  ...   \n",
       "1970              1.000000                       0.0  ...   \n",
       "1971              3.000000                       4.0  ...   \n",
       "1972             21.751675                       5.0  ...   \n",
       "\n",
       "      MSinceMostRecentInqexcl7days=-7  MSinceOldestTradeOpen=-8  \\\n",
       "0                                 0.0                       0.0   \n",
       "1                                 1.0                       0.0   \n",
       "2                                 0.0                       0.0   \n",
       "3                                 0.0                       0.0   \n",
       "4                                 0.0                       0.0   \n",
       "...                               ...                       ...   \n",
       "1968                              0.0                       0.0   \n",
       "1969                              0.0                       0.0   \n",
       "1970                              0.0                       0.0   \n",
       "1971                              0.0                       0.0   \n",
       "1972                              0.0                       0.0   \n",
       "\n",
       "      MSinceMostRecentDelq=-8  MSinceMostRecentInqexcl7days=-8  \\\n",
       "0                         0.0                              0.0   \n",
       "1                         0.0                              0.0   \n",
       "2                         0.0                              0.0   \n",
       "3                         0.0                              0.0   \n",
       "4                         0.0                              0.0   \n",
       "...                       ...                              ...   \n",
       "1968                      0.0                              0.0   \n",
       "1969                      0.0                              0.0   \n",
       "1970                      0.0                              0.0   \n",
       "1971                      0.0                              0.0   \n",
       "1972                      0.0                              0.0   \n",
       "\n",
       "      NetFractionRevolvingBurden=-8  NetFractionInstallBurden=-8  \\\n",
       "0                               0.0                          0.0   \n",
       "1                               0.0                          0.0   \n",
       "2                               0.0                          0.0   \n",
       "3                               0.0                          1.0   \n",
       "4                               0.0                          0.0   \n",
       "...                             ...                          ...   \n",
       "1968                            0.0                          0.0   \n",
       "1969                            0.0                          1.0   \n",
       "1970                            0.0                          1.0   \n",
       "1971                            0.0                          0.0   \n",
       "1972                            0.0                          1.0   \n",
       "\n",
       "      NumRevolvingTradesWBalance=-8  NumInstallTradesWBalance=-8  \\\n",
       "0                               0.0                          0.0   \n",
       "1                               0.0                          0.0   \n",
       "2                               0.0                          0.0   \n",
       "3                               0.0                          0.0   \n",
       "4                               0.0                          0.0   \n",
       "...                             ...                          ...   \n",
       "1968                            0.0                          0.0   \n",
       "1969                            0.0                          0.0   \n",
       "1970                            0.0                          0.0   \n",
       "1971                            0.0                          0.0   \n",
       "1972                            0.0                          0.0   \n",
       "\n",
       "      NumBank2NatlTradesWHighUtilization=-8  PercentTradesWBalance=-8  \n",
       "0                                       0.0                       0.0  \n",
       "1                                       0.0                       0.0  \n",
       "2                                       0.0                       0.0  \n",
       "3                                       0.0                       0.0  \n",
       "4                                       0.0                       0.0  \n",
       "...                                     ...                       ...  \n",
       "1968                                    0.0                       0.0  \n",
       "1969                                    0.0                       0.0  \n",
       "1970                                    0.0                       0.0  \n",
       "1971                                    0.0                       0.0  \n",
       "1972                                    0.0                       0.0  \n",
       "\n",
       "[1973 rows x 34 columns]"
      ]
     },
     "execution_count": 15,
     "metadata": {},
     "output_type": "execute_result"
    }
   ],
   "source": [
    "X_train_t = pd.DataFrame(arr_X_train_t, columns=column_names)\n",
    "\n",
    "X_test_t = pipeline.transform(X_test)\n",
    "X_test_t = pd.DataFrame(X_test_t, columns=column_names)\n",
    "X_test_t"
   ]
  },
  {
   "cell_type": "code",
   "execution_count": 16,
   "metadata": {},
   "outputs": [
    {
     "data": {
      "text/plain": [
       "34"
      ]
     },
     "execution_count": 16,
     "metadata": {},
     "output_type": "execute_result"
    }
   ],
   "source": [
    "len(list(X_test_t.columns))"
   ]
  },
  {
   "cell_type": "markdown",
   "metadata": {},
   "source": [
    "### Model Training"
   ]
  },
  {
   "cell_type": "code",
   "execution_count": 17,
   "metadata": {
    "collapsed": true
   },
   "outputs": [],
   "source": [
    "from sklearn import tree, linear_model\n",
    "from sklearn.ensemble import RandomForestClassifier\n",
    "from sklearn.metrics import accuracy_score"
   ]
  },
  {
   "cell_type": "code",
   "execution_count": 18,
   "metadata": {
    "collapsed": true
   },
   "outputs": [],
   "source": [
    "X_train_t_tr, X_train_t_val = train_test_split(X_train_t, test_size=0.25, random_state=1111)\n",
    "Y_train_t_tr, Y_train_t_val = train_test_split(Y_train, test_size=0.25, random_state=1111)"
   ]
  },
  {
   "cell_type": "markdown",
   "metadata": {},
   "source": [
    "training"
   ]
  },
  {
   "cell_type": "code",
   "execution_count": 19,
   "metadata": {},
   "outputs": [
    {
     "data": {
      "text/plain": [
       "0.7489858012170385"
      ]
     },
     "execution_count": 19,
     "metadata": {},
     "output_type": "execute_result"
    }
   ],
   "source": [
    "clf_log_reg = linear_model.LogisticRegression(C=2.212216291070449, max_iter=10000,solver='liblinear').fit(X_train_t_tr, Y_train_t_tr) \n",
    "accuracy_score(Y_train_t_val, clf_log_reg.predict(X_train_t_val))\n",
    "# print('Logistic regression accuracy: %.3f'%accuracy_score(Y_train_t_val, clf_log_reg.predict(X_train_t_val)))"
   ]
  },
  {
   "cell_type": "code",
   "execution_count": 20,
   "metadata": {
    "collapsed": true
   },
   "outputs": [],
   "source": [
    "from sklearn.metrics import confusion_matrix\n",
    "conf_matrix = confusion_matrix(Y_train_t_val, clf_log_reg.predict(X_train_t_val))"
   ]
  },
  {
   "cell_type": "code",
   "execution_count": 21,
   "metadata": {},
   "outputs": [
    {
     "data": {
      "text/plain": [
       "array([[689, 261],\n",
       "       [234, 788]])"
      ]
     },
     "execution_count": 21,
     "metadata": {},
     "output_type": "execute_result"
    }
   ],
   "source": [
    "conf_matrix"
   ]
  },
  {
   "cell_type": "markdown",
   "metadata": {},
   "source": [
    "### Risk score plot"
   ]
  },
  {
   "cell_type": "code",
   "execution_count": 22,
   "metadata": {
    "collapsed": true
   },
   "outputs": [],
   "source": [
    "log_reg_coefficients = np.append(clf_log_reg.coef_, clf_log_reg.intercept_)"
   ]
  },
  {
   "cell_type": "code",
   "execution_count": 23,
   "metadata": {},
   "outputs": [
    {
     "data": {
      "text/plain": [
       "array([-3.53678745e-02, -2.27599821e-04,  7.26148977e-03, -9.16206905e-03,\n",
       "       -2.97568779e-02,  7.26980325e-02,  1.91643318e-02, -9.05181723e-03,\n",
       "       -8.86938343e-03, -5.68631637e-02,  5.04109690e-02, -1.53515900e-03,\n",
       "        1.47105960e-02,  7.39073623e-03, -5.28907409e-02,  4.04853892e-01,\n",
       "       -3.45854459e-01,  1.16829380e-02,  3.30869176e-03,  9.25539644e-02,\n",
       "       -6.30070332e-03,  7.21658764e-02, -2.84812540e-03, -4.63516625e-01,\n",
       "        3.65475839e-01,  1.20906456e-01,  3.04508626e-01, -9.84095195e-01,\n",
       "       -1.39973528e-02,  3.75452838e-02, -5.96324419e-02,  6.97259779e-02,\n",
       "        7.12328632e-01, -1.79626541e+00,  3.98167621e+00])"
      ]
     },
     "execution_count": 23,
     "metadata": {},
     "output_type": "execute_result"
    }
   ],
   "source": [
    "log_reg_coefficients"
   ]
  },
  {
   "cell_type": "code",
   "execution_count": 24,
   "metadata": {},
   "outputs": [
    {
     "data": {
      "text/plain": [
       "array([3.98167621])"
      ]
     },
     "execution_count": 24,
     "metadata": {},
     "output_type": "execute_result"
    }
   ],
   "source": [
    "clf_log_reg.intercept_"
   ]
  },
  {
   "cell_type": "markdown",
   "metadata": {},
   "source": [
    "将input转为dataframe， 赋值给obsToPredict。或者可以直接用output（在判断大小前的value）赋值给valuePredicted。"
   ]
  },
  {
   "cell_type": "code",
   "execution_count": 22,
   "metadata": {
    "collapsed": true
   },
   "outputs": [],
   "source": [
    "obsToPredict = X_train_t_val.iloc[:1,:]"
   ]
  },
  {
   "cell_type": "code",
   "execution_count": 23,
   "metadata": {},
   "outputs": [
    {
     "data": {
      "text/html": [
       "<div>\n",
       "<style scoped>\n",
       "    .dataframe tbody tr th:only-of-type {\n",
       "        vertical-align: middle;\n",
       "    }\n",
       "\n",
       "    .dataframe tbody tr th {\n",
       "        vertical-align: top;\n",
       "    }\n",
       "\n",
       "    .dataframe thead th {\n",
       "        text-align: right;\n",
       "    }\n",
       "</style>\n",
       "<table border=\"1\" class=\"dataframe\">\n",
       "  <thead>\n",
       "    <tr style=\"text-align: right;\">\n",
       "      <th></th>\n",
       "      <th>ExternalRiskEstimate</th>\n",
       "      <th>MSinceOldestTradeOpen</th>\n",
       "      <th>MSinceMostRecentTradeOpen</th>\n",
       "      <th>AverageMInFile</th>\n",
       "      <th>NumSatisfactoryTrades</th>\n",
       "      <th>NumTrades60Ever2DerogPubRec</th>\n",
       "      <th>NumTrades90Ever2DerogPubRec</th>\n",
       "      <th>PercentTradesNeverDelq</th>\n",
       "      <th>MSinceMostRecentDelq</th>\n",
       "      <th>MaxDelq2PublicRecLast12M</th>\n",
       "      <th>...</th>\n",
       "      <th>MSinceMostRecentInqexcl7days=-7</th>\n",
       "      <th>MSinceOldestTradeOpen=-8</th>\n",
       "      <th>MSinceMostRecentDelq=-8</th>\n",
       "      <th>MSinceMostRecentInqexcl7days=-8</th>\n",
       "      <th>NetFractionRevolvingBurden=-8</th>\n",
       "      <th>NetFractionInstallBurden=-8</th>\n",
       "      <th>NumRevolvingTradesWBalance=-8</th>\n",
       "      <th>NumInstallTradesWBalance=-8</th>\n",
       "      <th>NumBank2NatlTradesWHighUtilization=-8</th>\n",
       "      <th>PercentTradesWBalance=-8</th>\n",
       "    </tr>\n",
       "  </thead>\n",
       "  <tbody>\n",
       "    <tr>\n",
       "      <th>1389</th>\n",
       "      <td>61.0</td>\n",
       "      <td>131.0</td>\n",
       "      <td>1.0</td>\n",
       "      <td>44.0</td>\n",
       "      <td>9.0</td>\n",
       "      <td>0.0</td>\n",
       "      <td>0.0</td>\n",
       "      <td>100.0</td>\n",
       "      <td>21.751675</td>\n",
       "      <td>7.0</td>\n",
       "      <td>...</td>\n",
       "      <td>0.0</td>\n",
       "      <td>0.0</td>\n",
       "      <td>0.0</td>\n",
       "      <td>0.0</td>\n",
       "      <td>0.0</td>\n",
       "      <td>0.0</td>\n",
       "      <td>0.0</td>\n",
       "      <td>0.0</td>\n",
       "      <td>0.0</td>\n",
       "      <td>0.0</td>\n",
       "    </tr>\n",
       "  </tbody>\n",
       "</table>\n",
       "<p>1 rows × 34 columns</p>\n",
       "</div>"
      ],
      "text/plain": [
       "      ExternalRiskEstimate  MSinceOldestTradeOpen  MSinceMostRecentTradeOpen  \\\n",
       "1389                  61.0                  131.0                        1.0   \n",
       "\n",
       "      AverageMInFile  NumSatisfactoryTrades  NumTrades60Ever2DerogPubRec  \\\n",
       "1389            44.0                    9.0                          0.0   \n",
       "\n",
       "      NumTrades90Ever2DerogPubRec  PercentTradesNeverDelq  \\\n",
       "1389                          0.0                   100.0   \n",
       "\n",
       "      MSinceMostRecentDelq  MaxDelq2PublicRecLast12M  ...  \\\n",
       "1389             21.751675                       7.0  ...   \n",
       "\n",
       "      MSinceMostRecentInqexcl7days=-7  MSinceOldestTradeOpen=-8  \\\n",
       "1389                              0.0                       0.0   \n",
       "\n",
       "      MSinceMostRecentDelq=-8  MSinceMostRecentInqexcl7days=-8  \\\n",
       "1389                      0.0                              0.0   \n",
       "\n",
       "      NetFractionRevolvingBurden=-8  NetFractionInstallBurden=-8  \\\n",
       "1389                            0.0                          0.0   \n",
       "\n",
       "      NumRevolvingTradesWBalance=-8  NumInstallTradesWBalance=-8  \\\n",
       "1389                            0.0                          0.0   \n",
       "\n",
       "      NumBank2NatlTradesWHighUtilization=-8  PercentTradesWBalance=-8  \n",
       "1389                                    0.0                       0.0  \n",
       "\n",
       "[1 rows x 34 columns]"
      ]
     },
     "execution_count": 23,
     "metadata": {},
     "output_type": "execute_result"
    }
   ],
   "source": [
    "obsToPredict"
   ]
  },
  {
   "cell_type": "code",
   "execution_count": 24,
   "metadata": {
    "collapsed": true
   },
   "outputs": [],
   "source": [
    "\n",
    "valuePredicted = float((np.dot(obsToPredict, log_reg_coefficients[:-1]) + log_reg_coefficients[-1])[0])"
   ]
  },
  {
   "cell_type": "code",
   "execution_count": 25,
   "metadata": {},
   "outputs": [
    {
     "data": {
      "text/plain": [
       "2.111492786427242"
      ]
     },
     "execution_count": 25,
     "metadata": {},
     "output_type": "execute_result"
    }
   ],
   "source": [
    "valuePredicted"
   ]
  },
  {
   "cell_type": "code",
   "execution_count": 26,
   "metadata": {},
   "outputs": [
    {
     "data": {
      "text/plain": [
       "0.8920152086799791"
      ]
     },
     "execution_count": 26,
     "metadata": {},
     "output_type": "execute_result"
    }
   ],
   "source": [
    "riskScore = 1/(1+np.exp(-1*valuePredicted))\n",
    "riskScore"
   ]
  },
  {
   "cell_type": "code",
   "execution_count": 27,
   "metadata": {
    "collapsed": true
   },
   "outputs": [],
   "source": [
    "## plot\n",
    "from scipy.special import expit\n",
    "scorePlot = pd.DataFrame(columns = (\"Overall Risk\", \"Risk Score Estimated\"))\n",
    "\n",
    "riskRange = np.arange(-6, 6, 0.01).tolist()\n",
    "\n",
    "for i in range(0, len(riskRange)):\n",
    "    newrow = [riskRange[i], expit(riskRange[i])]\n",
    "    scorePlot.loc[i] = newrow"
   ]
  },
  {
   "cell_type": "code",
   "execution_count": 28,
   "metadata": {},
   "outputs": [
    {
     "data": {
      "text/html": [
       "<div>\n",
       "<style scoped>\n",
       "    .dataframe tbody tr th:only-of-type {\n",
       "        vertical-align: middle;\n",
       "    }\n",
       "\n",
       "    .dataframe tbody tr th {\n",
       "        vertical-align: top;\n",
       "    }\n",
       "\n",
       "    .dataframe thead th {\n",
       "        text-align: right;\n",
       "    }\n",
       "</style>\n",
       "<table border=\"1\" class=\"dataframe\">\n",
       "  <thead>\n",
       "    <tr style=\"text-align: right;\">\n",
       "      <th></th>\n",
       "      <th>Overall Risk</th>\n",
       "      <th>Risk Score Estimated</th>\n",
       "    </tr>\n",
       "  </thead>\n",
       "  <tbody>\n",
       "    <tr>\n",
       "      <th>0</th>\n",
       "      <td>-6.00</td>\n",
       "      <td>0.002473</td>\n",
       "    </tr>\n",
       "    <tr>\n",
       "      <th>1</th>\n",
       "      <td>-5.99</td>\n",
       "      <td>0.002497</td>\n",
       "    </tr>\n",
       "    <tr>\n",
       "      <th>2</th>\n",
       "      <td>-5.98</td>\n",
       "      <td>0.002522</td>\n",
       "    </tr>\n",
       "    <tr>\n",
       "      <th>3</th>\n",
       "      <td>-5.97</td>\n",
       "      <td>0.002548</td>\n",
       "    </tr>\n",
       "    <tr>\n",
       "      <th>4</th>\n",
       "      <td>-5.96</td>\n",
       "      <td>0.002573</td>\n",
       "    </tr>\n",
       "  </tbody>\n",
       "</table>\n",
       "</div>"
      ],
      "text/plain": [
       "   Overall Risk  Risk Score Estimated\n",
       "0         -6.00              0.002473\n",
       "1         -5.99              0.002497\n",
       "2         -5.98              0.002522\n",
       "3         -5.97              0.002548\n",
       "4         -5.96              0.002573"
      ]
     },
     "execution_count": 28,
     "metadata": {},
     "output_type": "execute_result"
    }
   ],
   "source": [
    "scorePlot.head()"
   ]
  },
  {
   "cell_type": "code",
   "execution_count": 29,
   "metadata": {},
   "outputs": [
    {
     "data": {
      "image/png": "[encoded data removed]",
      "text/plain": [
       "<Figure size 432x288 with 1 Axes>"
      ]
     },
     "metadata": {
      "needs_background": "light"
     },
     "output_type": "display_data"
    }
   ],
   "source": [
    "import matplotlib.pyplot as plt\n",
    "import seaborn as sns\n",
    "ax = sns.lineplot(data=scorePlot, x = \"Overall Risk\", y = \"Risk Score Estimated\")\n",
    "ax.scatter(valuePredicted, riskScore, color = \"red\")\n",
    "ax.hlines(riskScore, xmin = -6, xmax = valuePredicted, color = \"red\")\n",
    "ax.vlines(valuePredicted, ymin = 0, ymax = riskScore, color = \"red\")\n",
    "# ax.hlines(y=0.2, xmin=4, xmax=20, linewidth=2, color='r')\n",
    "# ax.axvline(valuePredicted, ymin = 0, ymax = riskScore, color = \"red\")\n",
    "plt.xlim([-6,6])\n",
    "plt.ylim([0,1])\n",
    "ax.spines['top'].set_color('none')\n",
    "ax.spines['right'].set_color('none')"
   ]
  },
  {
   "cell_type": "markdown",
   "metadata": {},
   "source": [
    "### cross validation"
   ]
  },
  {
   "cell_type": "code",
   "execution_count": null,
   "metadata": {
    "collapsed": true
   },
   "outputs": [],
   "source": [
    "\n"
   ]
  },
  {
   "cell_type": "code",
   "execution_count": 30,
   "metadata": {
    "collapsed": true
   },
   "outputs": [],
   "source": [
    "clf_log_reg = linear_model.LogisticRegression(max_iter=10000).fit(X_train_t_tr, Y_train_t_tr) "
   ]
  },
  {
   "cell_type": "code",
   "execution_count": 31,
   "metadata": {
    "collapsed": true
   },
   "outputs": [],
   "source": [
    "import pickle\n",
    "with open(\"clf_log_reg_model.p\",\"wb\") as f:\n",
    "    pickle.dump(\"clf_log_reg_model.p\", f)"
   ]
  },
  {
   "cell_type": "code",
   "execution_count": 32,
   "metadata": {},
   "outputs": [
    {
     "ename": "NameError",
     "evalue": "name 'cross_validate' is not defined",
     "output_type": "error",
     "traceback": [
      "\u001b[0;31m---------------------------------------------------------------------------\u001b[0m",
      "\u001b[0;31mNameError\u001b[0m                                 Traceback (most recent call last)",
      "\u001b[0;32m<ipython-input-32-4fad33e517b0>\u001b[0m in \u001b[0;36m<module>\u001b[0;34m\u001b[0m\n\u001b[0;32m----> 1\u001b[0;31m \u001b[0mcv_results_log_reg\u001b[0m \u001b[0;34m=\u001b[0m \u001b[0mcross_validate\u001b[0m\u001b[0;34m(\u001b[0m\u001b[0mlinear_model\u001b[0m\u001b[0;34m.\u001b[0m\u001b[0mLogisticRegression\u001b[0m\u001b[0;34m(\u001b[0m\u001b[0mC\u001b[0m\u001b[0;34m=\u001b[0m\u001b[0;36m2.212216291070449\u001b[0m\u001b[0;34m,\u001b[0m \u001b[0mmax_iter\u001b[0m\u001b[0;34m=\u001b[0m\u001b[0;36m10000\u001b[0m\u001b[0;34m,\u001b[0m\u001b[0msolver\u001b[0m\u001b[0;34m=\u001b[0m\u001b[0;34m'liblinear'\u001b[0m\u001b[0;34m)\u001b[0m\u001b[0;34m,\u001b[0m \u001b[0mX_train_t\u001b[0m\u001b[0;34m,\u001b[0m \u001b[0mY_train\u001b[0m\u001b[0;34m,\u001b[0m \u001b[0mcv\u001b[0m\u001b[0;34m=\u001b[0m\u001b[0;36m5\u001b[0m\u001b[0;34m,\u001b[0m \u001b[0mreturn_estimator\u001b[0m\u001b[0;34m=\u001b[0m\u001b[0;32mTrue\u001b[0m\u001b[0;34m)\u001b[0m\u001b[0;34m\u001b[0m\u001b[0m\n\u001b[0m",
      "\u001b[0;31mNameError\u001b[0m: name 'cross_validate' is not defined"
     ]
    }
   ],
   "source": [
    "cv_results_log_reg = cross_validate(linear_model.LogisticRegression(C=2.212216291070449, max_iter=10000,solver='liblinear'), X_train_t, Y_train, cv=5, return_estimator=True)"
   ]
  },
  {
   "cell_type": "code",
   "execution_count": null,
   "metadata": {
    "collapsed": true
   },
   "outputs": [],
   "source": [
    "cv_results_log_reg"
   ]
  },
  {
   "cell_type": "code",
   "execution_count": null,
   "metadata": {
    "collapsed": true
   },
   "outputs": [],
   "source": [
    "cv_results_log_reg['test_score']"
   ]
  },
  {
   "cell_type": "code",
   "execution_count": null,
   "metadata": {
    "collapsed": true
   },
   "outputs": [],
   "source": [
    "print('Logistic regresion - CV accuracy score %.3f'%cv_results_log_reg['test_score'].mean()) # this is their average"
   ]
  },
  {
   "cell_type": "code",
   "execution_count": null,
   "metadata": {
    "collapsed": true
   },
   "outputs": [],
   "source": [
    "print('Logistic regresion - validation accuracy score: %.3f'%accuracy_score(Y_train_t_val, clf_log_reg.predict(X_train_t_val)))"
   ]
  },
  {
   "cell_type": "code",
   "execution_count": null,
   "metadata": {
    "collapsed": true
   },
   "outputs": [],
   "source": []
  },
  {
   "cell_type": "code",
   "execution_count": null,
   "metadata": {
    "collapsed": true
   },
   "outputs": [],
   "source": []
  },
  {
   "cell_type": "code",
   "execution_count": null,
   "metadata": {
    "collapsed": true
   },
   "outputs": [],
   "source": []
  }
 ],
 "metadata": {
  "interpreter": {
   "hash": "9a092a618e8c8a55752bd040821a9ceccef777b732fb23514a9bed684b55d962"
  },
  "kernelspec": {
   "display_name": "Python 3 [3.7]",
   "language": "python",
   "name": "python3"
  },
  "language_info": {
   "codemirror_mode": {
    "name": "ipython",
    "version": 3
   },
   "file_extension": ".py",
   "mimetype": "text/x-python",
   "name": "python",
   "nbconvert_exporter": "python",
   "pygments_lexer": "ipython3",
   "version": "3.7.5"
  }
 },
 "nbformat": 4,
 "nbformat_minor": 2
}
